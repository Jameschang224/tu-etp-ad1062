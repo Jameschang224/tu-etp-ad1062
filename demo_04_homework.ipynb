{
 "cells": [
  {
   "cell_type": "markdown",
   "metadata": {},
   "source": [
    "# Homework of Ch4. Convolutional Neural Network\n",
    "----\n",
    "This is the homework of TU-ETP-AD1062 Machine Learning Fundamentals.\n",
    "\n",
    "For more information, please refer to:\n",
    "https://sites.google.com/view/tu-ad1062-mlfundamentals/"
   ]
  },
  {
   "cell_type": "code",
   "execution_count": null,
   "metadata": {},
   "outputs": [],
   "source": [
    "from keras.datasets import fashion_mnist\n",
    "from keras.wrappers.scikit_learn import KerasClassifier\n",
    "from keras.models import Sequential\n",
    "from keras.layers import Dense, Dropout, Activation, Flatten, Conv2D, MaxPooling2D\n",
    "from keras.optimizers import Adadelta\n",
    "from keras.utils import to_categorical\n",
    "\n",
    "import numpy as np\n",
    "import sklearn.model_selection\n",
    "\n",
    "import matplotlib.pyplot as plt\n",
    "import matplotlib.image as mpimg\n"
   ]
  },
  {
   "cell_type": "markdown",
   "metadata": {},
   "source": [
    "## 1. Load and Pre-processing Fashion-MNIST\n",
    "----\n",
    "The code here demonstrate how to load the built-in Fashion-MNIST from Keras. Here also includes some pre-processing steps:\n",
    "1. Load Fashion MNIST data\n",
    "2. Compute the all available classes\n",
    "3. Normalize to range `0.0-1.0` by divided with 255\n",
    "4. Reshape to `(28, 28, 1)`\n",
    "5. Convert label to categorical array\n",
    "6. Plot the first 10 images\n",
    "\n",
    "> **Your task**:  \n",
    "> Complete step 4 and 5 mentioned above"
   ]
  },
  {
   "cell_type": "code",
   "execution_count": null,
   "metadata": {},
   "outputs": [],
   "source": [
    "(X_train, y_train), (X_test, y_test) = fashion_mnist.load_data()\n",
    "\n",
    "classes = np.unique(y_train)\n",
    "num_classes = len(classes)\n",
    "\n",
    "X_train = X_train.astype('float32') / 255.0\n",
    "X_test = X_test.astype('float32') / 255.0\n",
    "\n",
    "# Now it's your turn!: Reshape to (28, 28, 1)\n",
    "# ----------------------------------------------------------------\n",
    "# X_train = ...\n",
    "\n",
    "# Now it's your turn!: Convert label to categorical array\n",
    "# ----------------------------------------------------------------\n",
    "# y_train = ...\n",
    "\n",
    "\n",
    "assert X_train.shape == (60000,28,28,1), \"Your `X_train` dimension is NOT correct, check and modify the above codeline!\"\n",
    "assert y_train.shape == (60000,10), \"Your `y_train` dimension is NOT correct, check and modify the above codeline!\"\n",
    "\n",
    "plt.figure()\n",
    "for i in range(0,10):\n",
    "    plt.subplot(1, 10, i+1)\n",
    "    plt.imshow(X_train[i,:,:,0], cmap='gray')"
   ]
  },
  {
   "cell_type": "markdown",
   "metadata": {},
   "source": [
    "## 2. Construct ConvNet\n",
    "----\n",
    "The code shown below constructs a ConvNet with following structure:\n",
    "1. Convolutional Layer:\n",
    "    * Kernel size `3 x 3`\n",
    "    * Number of filters `8`\n",
    "    * No padding\n",
    "2. Max Pooling Layer:\n",
    "    * Pool size `2 x 2`\n",
    "3. Drop-out Layer:\n",
    "    * Drop-out rate `0.25`\n",
    "4. Flatten layer\n",
    "5. Fully-connected layer with soft-max activation\n",
    "\n",
    "> **Your task**:  \n",
    "> Adjust the hierachy of your ConvNet. Check Keras manual for more details. For examples:\n",
    "> - Convolution Layer: https://keras.io/layers/convolutional/#conv2d\n",
    "> - Dense Layer (Fully-connected layer): https://keras.io/layers/core/#dense\n",
    "> - Max Pooling Layer: https://keras.io/layers/pooling/#maxpooling2d"
   ]
  },
  {
   "cell_type": "code",
   "execution_count": null,
   "metadata": {},
   "outputs": [],
   "source": [
    "def create_convNet():\n",
    "    model = Sequential()\n",
    "    \n",
    "    # Now it's your turn!: Adjust your ConvNet\n",
    "    # ----------------------------------------------------------------\n",
    "    model.add(Conv2D(8, kernel_size=(3, 3), activation='relu', padding='same', input_shape=(28,28,1)))\n",
    "    model.add(MaxPooling2D(pool_size=(2, 2)))\n",
    "    model.add(Dropout(0.25))\n",
    "    model.add(Flatten())\n",
    "    model.add(Dense(num_classes, activation='softmax'))\n",
    "\n",
    "    model.compile(loss='categorical_crossentropy', optimizer=Adadelta(), metrics=['accuracy'])\n",
    "    \n",
    "    return model"
   ]
  },
  {
   "cell_type": "markdown",
   "metadata": {},
   "source": [
    "## 3. Cross-validation\n",
    "----\n",
    "The code shown below conduct 5-fold cross-validation on training set based on the model adjusted above (i.e., `create_convNet`)\n",
    "\n",
    "> **Your task**:  \n",
    "> - Keep adjusting `create_convNet()` and execute the following block\n",
    "> - Make sure that you are happy with the 5-fold cross-validation result!"
   ]
  },
  {
   "cell_type": "code",
   "execution_count": null,
   "metadata": {},
   "outputs": [],
   "source": [
    "neural_network = KerasClassifier(build_fn=create_convNet, epochs=5, batch_size=256, verbose=1)\n",
    "\n",
    "cv = 5\n",
    "scores = sklearn.model_selection.cross_val_score(neural_network, X_train, y_train, cv=5)\n",
    "\n",
    "print(\"%d-fold Cross Validation Result\" % cv)\n",
    "print(scores)"
   ]
  },
  {
   "cell_type": "markdown",
   "metadata": {},
   "source": [
    "4. Predict the testing set\n",
    "----\n",
    "The code shown below helps you read the testing data, predict with your `create_convNet()`, then output as CSV files\n",
    "\n",
    "> **Your task:**\n",
    "> 1. Download testing set from Kaggle website:  https://www.kaggle.com/t/e24b3628c69542239c3d24d465898d03\n",
    "> 2. Put the testing set downloaded to the same location as this `*.ipynb` file\n",
    "> 3. Execute the following block to:\n",
    ">    - Train with `X_train` and `y_train`\n",
    ">    - Predict with `X_kaggle`\n",
    "> 4. Upload your evaluation result to Kaggle (NOTICE: 5 submissions per-day!)\n",
    "> 5. Check your public scoreboard!\n",
    "> 6. Submit your homework 4 (Google form), make sure to **Fill in your Trend Micro PSID team name!!**"
   ]
  },
  {
   "cell_type": "code",
   "execution_count": null,
   "metadata": {},
   "outputs": [],
   "source": [
    "# Todo: Output CSV\n",
    "neural_network.fit(X_train, y_train)\n",
    "y_test_predict = neural_network.predict(X_test)\n",
    "\n",
    "test_score = sklearn.metrics.zero_one_loss(y_test, y_test_predict)\n",
    "print(test_score)"
   ]
  }
 ],
 "metadata": {
  "kernelspec": {
   "display_name": "Python 3",
   "language": "python",
   "name": "python3"
  },
  "language_info": {
   "codemirror_mode": {
    "name": "ipython",
    "version": 3
   },
   "file_extension": ".py",
   "mimetype": "text/x-python",
   "name": "python",
   "nbconvert_exporter": "python",
   "pygments_lexer": "ipython3",
   "version": "3.6.3"
  }
 },
 "nbformat": 4,
 "nbformat_minor": 2
}
